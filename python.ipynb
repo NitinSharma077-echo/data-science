{
 "cells": [
  {
   "cell_type": "markdown",
   "id": "f7d4a857",
   "metadata": {},
   "source": [
    "reverse a number\n"
   ]
  },
  {
   "cell_type": "code",
   "execution_count": 1,
   "id": "b1db731f",
   "metadata": {},
   "outputs": [
    {
     "name": "stdout",
     "output_type": "stream",
     "text": [
      "The reverse of the number is : 235\n"
     ]
    }
   ],
   "source": [
    "num=int(input('Enter the number : '))\n",
    "temp=num\n",
    "rev=0\n",
    "while temp>0:\n",
    "    digit=temp%10\n",
    "    rev=rev*10+digit\n",
    "    temp=temp//10\n",
    "\n",
    "print('The reverse of the number is :',rev)    "
   ]
  },
  {
   "cell_type": "markdown",
   "id": "18a04fdd",
   "metadata": {},
   "source": [
    "fibonacci series"
   ]
  },
  {
   "cell_type": "code",
   "execution_count": 1,
   "id": "d9fdfb32",
   "metadata": {},
   "outputs": [
    {
     "name": "stdout",
     "output_type": "stream",
     "text": [
      "Fibonacci series:\n",
      "1 2 3 5 8 13 21 34 "
     ]
    }
   ],
   "source": [
    "num = int(input(\"Enter the number of terms in the Fibonacci series: \"))\n",
    "n1, n2 = 0, 1\n",
    "print(\"Fibonacci series:\")\n",
    "for i in range(2,num):\n",
    "    n3=n1+n2\n",
    "    n1=n2\n",
    "    n2=n3\n",
    "    print(n3, end=' ')\n",
    "    "
   ]
  },
  {
   "cell_type": "markdown",
   "id": "fddad493",
   "metadata": {},
   "source": [
    "greater common divisor"
   ]
  },
  {
   "cell_type": "code",
   "execution_count": 3,
   "id": "a89b8d7a",
   "metadata": {},
   "outputs": [
    {
     "name": "stdout",
     "output_type": "stream",
     "text": [
      "The GCD of 32 and 32 is 32\n"
     ]
    }
   ],
   "source": [
    "num1 = int(input(\"Enter the first number: \"))\n",
    "num2 = int(input(\"Enter the second number: \"))\n",
    "def gcd(num1, num2):\n",
    "    if num1>num2:\n",
    "        smaller = num2\n",
    "    else:\n",
    "        smaller = num1      \n",
    "    for i in range(1,smaller+1):\n",
    "        if((num1 % i == 0) and (num2 % i == 0)):\n",
    "            gcd = i\n",
    "    print(\"The GCD of\", num1, \"and\", num2, \"is\", gcd)\n",
    "gcd(num1, num2)        "
   ]
  },
  {
   "cell_type": "markdown",
   "id": "f0c20e7b",
   "metadata": {},
   "source": [
    "perfect number"
   ]
  },
  {
   "cell_type": "code",
   "execution_count": 4,
   "id": "fbf1267f",
   "metadata": {},
   "outputs": [
    {
     "name": "stdout",
     "output_type": "stream",
     "text": [
      "43 is not a perfect number\n"
     ]
    }
   ],
   "source": [
    "num1 = int(input(\"Enter the number: \"))\n",
    "def is_perfect(num1):\n",
    "    sum=0\n",
    "    for i in range(1,num1):\n",
    "        if num1%i==0:\n",
    "            sum+=i\n",
    "    if sum==num1:\n",
    "        print(num1,\"is a perfect number\")\n",
    "    else:\n",
    "        print(num1,\"is not a perfect number\")\n",
    "is_perfect(num1)        "
   ]
  },
  {
   "cell_type": "markdown",
   "id": "a1f75f63",
   "metadata": {},
   "source": [
    "Anagram string\n"
   ]
  },
  {
   "cell_type": "code",
   "execution_count": 7,
   "id": "89d4f46a",
   "metadata": {},
   "outputs": [
    {
     "name": "stdout",
     "output_type": "stream",
     "text": [
      "Strings are not anagrams\n"
     ]
    }
   ],
   "source": [
    "str1=input(\"Enter string 1: \")\n",
    "str2=input(\"Enter string 2: \")\n",
    "if len(str1)>len(str2 or len(str1)<len(str2)):\n",
    "    print(\"Strings are not anagrams\")\n",
    "else:\n",
    "    str1 = sorted(str1)\n",
    "    str2=sorted(str2)\n",
    "    if str1==str2:\n",
    "        print(\"Strings are anagrams\")\n",
    "    else:\n",
    "        print(\"Strings are not anagrams\")\n",
    "        "
   ]
  },
  {
   "cell_type": "markdown",
   "id": "b8e9b268",
   "metadata": {},
   "source": [
    "palidrome or not"
   ]
  },
  {
   "cell_type": "code",
   "execution_count": 9,
   "id": "d63f2f67",
   "metadata": {},
   "outputs": [
    {
     "name": "stdout",
     "output_type": "stream",
     "text": [
      "jdhs is not a palindrome\n"
     ]
    }
   ],
   "source": [
    "def is_palindrome(s):\n",
    "    s = s.lower()\n",
    "    i = 0\n",
    "    j = len(s) - 1\n",
    "    while i < j:\n",
    "        if s[i] != s[j]:\n",
    "            return False\n",
    "        i += 1\n",
    "        j -= 1\n",
    "    return True\n",
    "\n",
    "pali = input(\"Enter a string: \")\n",
    "if is_palindrome(pali):\n",
    "    print(pali, \"is a palindrome\")\n",
    "else:\n",
    "    print(pali, \"is not a palindrome\")\n"
   ]
  },
  {
   "cell_type": "markdown",
   "id": "02579355",
   "metadata": {},
   "source": [
    " frequency of characters in a string"
   ]
  },
  {
   "cell_type": "code",
   "execution_count": 10,
   "id": "4459d364",
   "metadata": {},
   "outputs": [
    {
     "name": "stdout",
     "output_type": "stream",
     "text": [
      "The frequency of 4 in the string is: 0\n"
     ]
    }
   ],
   "source": [
    "s=input(\"Enter a string: \")\n",
    "character=input(\"Enter a character to find its frequency: \")\n",
    "freq=0\n",
    "for i in s:\n",
    "    if i==character:\n",
    "        freq+=1\n",
    "print(\"The frequency of\", character, \"in the string is:\", freq)"
   ]
  },
  {
   "cell_type": "markdown",
   "id": "7cbca1e0",
   "metadata": {},
   "source": [
    "check if two strings match where one string contains wildcard characters"
   ]
  },
  {
   "cell_type": "code",
   "execution_count": 11,
   "id": "87cb4e6d",
   "metadata": {},
   "outputs": [],
   "source": [
    "def solve(a,b):\n",
    "    n,m=len(a),len(b)\n",
    "    if n==0 and m==0:\n",
    "        return True\n",
    "    if n>1 and a[0]=='*' and m>0:\n",
    "        return False\n",
    "    if n>0 and m>0 and a[0]==b[0]:\n",
    "        return solve(a[1:],b[1:])\n",
    "    if n>0 and a[0]=='?' and m>0:\n",
    "        return solve(a[1:],b[1:])\n",
    "    if n>0 and a[0]=='#' and m>0:\n",
    "        return solve(a[1:],b) or solve(a,b[1:])\n",
    "solve(\"a?b#c\",\"abxc\")    \n"
   ]
  },
  {
   "cell_type": "markdown",
   "id": "7b8af1d6",
   "metadata": {},
   "source": [
    "bubble sort\n"
   ]
  },
  {
   "cell_type": "code",
   "execution_count": 13,
   "id": "abd8d8c0",
   "metadata": {},
   "outputs": [
    {
     "name": "stdout",
     "output_type": "stream",
     "text": [
      "Pass 1 : [34, 64, 25, 12, 22, 11, 90]\n",
      "Pass 1 : [34, 25, 64, 12, 22, 11, 90]\n",
      "Pass 1 : [34, 25, 12, 64, 22, 11, 90]\n",
      "Pass 1 : [34, 25, 12, 22, 64, 11, 90]\n",
      "Pass 1 : [34, 25, 12, 22, 11, 64, 90]\n",
      "Pass 2 : [25, 34, 12, 22, 11, 64, 90]\n",
      "Pass 2 : [25, 12, 34, 22, 11, 64, 90]\n",
      "Pass 2 : [25, 12, 22, 34, 11, 64, 90]\n",
      "Pass 2 : [25, 12, 22, 11, 34, 64, 90]\n",
      "Pass 3 : [12, 25, 22, 11, 34, 64, 90]\n",
      "Pass 3 : [12, 22, 25, 11, 34, 64, 90]\n",
      "Pass 3 : [12, 22, 11, 25, 34, 64, 90]\n",
      "Pass 4 : [12, 11, 22, 25, 34, 64, 90]\n",
      "Pass 5 : [11, 12, 22, 25, 34, 64, 90]\n",
      "Sorted array is: [11, 12, 22, 25, 34, 64, 90]\n"
     ]
    }
   ],
   "source": [
    "def bubble(arr):\n",
    "    n=len(arr)\n",
    "    for i in range(n):\n",
    "        for j in range(0,n-i-1):\n",
    "            if arr[j]>arr[j+1]:\n",
    "                arr[j],arr[j+1]=arr[j+1],arr[j]\n",
    "                print(\"Pass\", i+1, \":\", arr)\n",
    "    print(\"Sorted array is:\", arr)\n",
    "bubble([64, 34, 25, 12, 22, 11, 90])                "
   ]
  },
  {
   "cell_type": "markdown",
   "id": "2bc48f82",
   "metadata": {},
   "source": [
    "merge sort\n"
   ]
  },
  {
   "cell_type": "code",
   "execution_count": null,
   "id": "4a87f58c",
   "metadata": {},
   "outputs": [],
   "source": [
    "def mergesort(int mid,int left,int right):\n",
    "    if left<right:\n",
    "        mid=left+(right-left)/2\n",
    "        mergesort(mid,left,mid)\n",
    "        mergesort(mid+1,mid+1,right)\n",
    "        merge(left,mid,right)   \n",
    "\n",
    "def merge(left, right):       \n",
    "    int mid=  left+(right-left)/2\n",
    "    while left<right:\n",
    "        "
   ]
  }
 ],
 "metadata": {
  "kernelspec": {
   "display_name": "Python 3",
   "language": "python",
   "name": "python3"
  },
  "language_info": {
   "codemirror_mode": {
    "name": "ipython",
    "version": 3
   },
   "file_extension": ".py",
   "mimetype": "text/x-python",
   "name": "python",
   "nbconvert_exporter": "python",
   "pygments_lexer": "ipython3",
   "version": "3.12.1"
  }
 },
 "nbformat": 4,
 "nbformat_minor": 5
}
