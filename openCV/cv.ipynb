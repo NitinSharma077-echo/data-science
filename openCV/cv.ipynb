{
 "cells": [
  {
   "cell_type": "code",
   "execution_count": 1,
   "id": "a6ae76e3",
   "metadata": {},
   "outputs": [],
   "source": [
    "import numpy as np\n",
    "import pandas as pd\n",
    "import cv2"
   ]
  },
  {
   "cell_type": "markdown",
   "id": "26a2d0ad",
   "metadata": {},
   "source": [
    "loading and read the image"
   ]
  },
  {
   "cell_type": "code",
   "execution_count": 2,
   "id": "e1b71cbb",
   "metadata": {},
   "outputs": [],
   "source": [
    "#grey\n",
    "img = cv2.imread('flower.jpg', 0)  # with filename\n",
    "# color\n",
    "img2 = cv2.imread(r\"C:\\Users\\Lenovo\\Downloads\\flower.jpg\", 1)  # with path\n",
    "\n",
    "# Display both images\n",
    "cv2.imshow('Grayscale Image', img)\n",
    "cv2.imshow('Color Image', img2)\n",
    "#to save the image\n",
    "cv2.imwrite('flower_gray.jpg', img) \n",
    "# Wait and close\n",
    "cv2.waitKey(0)\n",
    "# close all windows open\n",
    "cv2.destroyAllWindows()\n"
   ]
  },
  {
   "cell_type": "markdown",
   "id": "ef506bdd",
   "metadata": {},
   "source": [
    "to check dimensions of an image \n",
    "it return height , width , color channels"
   ]
  },
  {
   "cell_type": "code",
   "execution_count": 3,
   "id": "1f137559",
   "metadata": {},
   "outputs": [
    {
     "data": {
      "text/plain": [
       "(180, 270, 3)"
      ]
     },
     "execution_count": 3,
     "metadata": {},
     "output_type": "execute_result"
    }
   ],
   "source": [
    "dimension=img2.shape\n",
    "dimension"
   ]
  },
  {
   "cell_type": "markdown",
   "id": "0d32bea6",
   "metadata": {},
   "source": [
    "Image transformation and manupulation"
   ]
  },
  {
   "cell_type": "markdown",
   "id": "e751be17",
   "metadata": {},
   "source": [
    "1.resize \n",
    "synatx: cv2.resize(src,dsize,fx,fy,interpolation)\n",
    "src=source\n",
    "dsize=dimension size with x,y\n",
    "fx and fy are scaling factor\n",
    "interpolation= quality control"
   ]
  },
  {
   "cell_type": "code",
   "execution_count": 4,
   "id": "a2ef7ab6",
   "metadata": {},
   "outputs": [],
   "source": [
    "resized=cv2.resize(img,(200,100), interpolation=cv2.INTER_LINEAR)\n",
    "\n",
    "cv2.imshow('Resized Image', resized)\n",
    "cv2.waitKey(0)\n",
    "cv2.destroyAllWindows()"
   ]
  },
  {
   "cell_type": "markdown",
   "id": "8d80c776",
   "metadata": {},
   "source": [
    "2.crop image:\n",
    "image[start y:end y, start x: end x]"
   ]
  },
  {
   "cell_type": "code",
   "execution_count": 5,
   "id": "e19b1f08",
   "metadata": {},
   "outputs": [],
   "source": [
    "croped=img[60:180, 20:150]  # y1:y2, x1:x2\n",
    "cv2.imshow('Cropped Image', croped)\n",
    "cv2.waitKey(0)\n",
    "cv2.destroyAllWindows()"
   ]
  },
  {
   "cell_type": "markdown",
   "id": "b18867d3",
   "metadata": {},
   "source": [
    "3. Rotation and flipping"
   ]
  },
  {
   "cell_type": "code",
   "execution_count": 7,
   "id": "371eb4d4",
   "metadata": {},
   "outputs": [],
   "source": [
    "x=img.shape[1]\n",
    "y=img.shape[0]\n",
    "center = (x / 2, y / 2) \n",
    "rotate=cv2.getRotationMatrix2D(center, 45, 2)\n",
    "# center is the center of rotation, 45 is the angle, 2 is the scale\n",
    "rotated=cv2.warpAffine(img, rotate, (img.shape[1], img.shape[0]))\n",
    "cv2.imshow('Rotated Image', rotated)\n",
    "cv2.waitKey(0)\n",
    "cv2.destroyAllWindows()"
   ]
  },
  {
   "cell_type": "markdown",
   "id": "434f6a6e",
   "metadata": {},
   "source": [
    "face detection"
   ]
  },
  {
   "cell_type": "code",
   "execution_count": 10,
   "id": "e89d321e",
   "metadata": {},
   "outputs": [],
   "source": [
    "face_cascade = cv2.CascadeClassifier('haarcascade_frontalface_default.xml')\n",
    "webcam = cv2.VideoCapture(0)\n",
    "\n",
    "while True:\n",
    "    webcam_opened, frame = webcam.read()\n",
    "    if not webcam_opened:\n",
    "        print(\"Could not open webcam\")\n",
    "        break\n",
    "\n",
    "    grey = cv2.cvtColor(frame, cv2.COLOR_BGR2GRAY)\n",
    "    faces = face_cascade.detectMultiScale(grey, 1.3, 5)\n",
    "    for (x, y, w, h) in faces:\n",
    "        cv2.rectangle(frame, (x, y), (x + w, y + h), (255, 0, 0), 2)\n",
    "\n",
    "    cv2.imshow(\"Face Detection\", frame) \n",
    "\n",
    "    key = cv2.waitKey(10)\n",
    "    if key & 0xFF == ord('q'):\n",
    "        break\n",
    "\n",
    "webcam.release()\n",
    "cv2.destroyAllWindows()\n"
   ]
  }
 ],
 "metadata": {
  "kernelspec": {
   "display_name": "Python 3",
   "language": "python",
   "name": "python3"
  },
  "language_info": {
   "codemirror_mode": {
    "name": "ipython",
    "version": 3
   },
   "file_extension": ".py",
   "mimetype": "text/x-python",
   "name": "python",
   "nbconvert_exporter": "python",
   "pygments_lexer": "ipython3",
   "version": "3.12.1"
  }
 },
 "nbformat": 4,
 "nbformat_minor": 5
}
